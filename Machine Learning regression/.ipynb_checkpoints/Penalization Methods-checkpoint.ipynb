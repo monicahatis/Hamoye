{
 "cells": [
  {
   "cell_type": "markdown",
   "id": "d0714317",
   "metadata": {},
   "source": [
    "### Penalization Methods"
   ]
  },
  {
   "cell_type": "code",
   "execution_count": 1,
   "id": "f544987b",
   "metadata": {},
   "outputs": [],
   "source": [
    "import pandas as pd\n",
    "import numpy as np\n",
    "import seaborn as sns"
   ]
  },
  {
   "cell_type": "code",
   "execution_count": 2,
   "id": "05424203",
   "metadata": {},
   "outputs": [
    {
     "data": {
      "text/html": [
       "<div>\n",
       "<style scoped>\n",
       "    .dataframe tbody tr th:only-of-type {\n",
       "        vertical-align: middle;\n",
       "    }\n",
       "\n",
       "    .dataframe tbody tr th {\n",
       "        vertical-align: top;\n",
       "    }\n",
       "\n",
       "    .dataframe thead th {\n",
       "        text-align: right;\n",
       "    }\n",
       "</style>\n",
       "<table border=\"1\" class=\"dataframe\">\n",
       "  <thead>\n",
       "    <tr style=\"text-align: right;\">\n",
       "      <th></th>\n",
       "      <th>X1</th>\n",
       "      <th>X2</th>\n",
       "      <th>X3</th>\n",
       "      <th>X4</th>\n",
       "      <th>X5</th>\n",
       "      <th>X6</th>\n",
       "      <th>X7</th>\n",
       "      <th>X8</th>\n",
       "      <th>Y1</th>\n",
       "      <th>Y2</th>\n",
       "      <th>Unnamed: 10</th>\n",
       "      <th>Unnamed: 11</th>\n",
       "    </tr>\n",
       "  </thead>\n",
       "  <tbody>\n",
       "    <tr>\n",
       "      <th>0</th>\n",
       "      <td>0.98</td>\n",
       "      <td>514.5</td>\n",
       "      <td>294.0</td>\n",
       "      <td>110.25</td>\n",
       "      <td>7.0</td>\n",
       "      <td>2</td>\n",
       "      <td>0.0</td>\n",
       "      <td>0</td>\n",
       "      <td>15.55</td>\n",
       "      <td>21.33</td>\n",
       "      <td>NaN</td>\n",
       "      <td>NaN</td>\n",
       "    </tr>\n",
       "    <tr>\n",
       "      <th>1</th>\n",
       "      <td>0.98</td>\n",
       "      <td>514.5</td>\n",
       "      <td>294.0</td>\n",
       "      <td>110.25</td>\n",
       "      <td>7.0</td>\n",
       "      <td>3</td>\n",
       "      <td>0.0</td>\n",
       "      <td>0</td>\n",
       "      <td>15.55</td>\n",
       "      <td>21.33</td>\n",
       "      <td>NaN</td>\n",
       "      <td>NaN</td>\n",
       "    </tr>\n",
       "    <tr>\n",
       "      <th>2</th>\n",
       "      <td>0.98</td>\n",
       "      <td>514.5</td>\n",
       "      <td>294.0</td>\n",
       "      <td>110.25</td>\n",
       "      <td>7.0</td>\n",
       "      <td>4</td>\n",
       "      <td>0.0</td>\n",
       "      <td>0</td>\n",
       "      <td>15.55</td>\n",
       "      <td>21.33</td>\n",
       "      <td>NaN</td>\n",
       "      <td>NaN</td>\n",
       "    </tr>\n",
       "    <tr>\n",
       "      <th>3</th>\n",
       "      <td>0.98</td>\n",
       "      <td>514.5</td>\n",
       "      <td>294.0</td>\n",
       "      <td>110.25</td>\n",
       "      <td>7.0</td>\n",
       "      <td>5</td>\n",
       "      <td>0.0</td>\n",
       "      <td>0</td>\n",
       "      <td>15.55</td>\n",
       "      <td>21.33</td>\n",
       "      <td>NaN</td>\n",
       "      <td>NaN</td>\n",
       "    </tr>\n",
       "    <tr>\n",
       "      <th>4</th>\n",
       "      <td>0.90</td>\n",
       "      <td>563.5</td>\n",
       "      <td>318.5</td>\n",
       "      <td>122.50</td>\n",
       "      <td>7.0</td>\n",
       "      <td>2</td>\n",
       "      <td>0.0</td>\n",
       "      <td>0</td>\n",
       "      <td>20.84</td>\n",
       "      <td>28.28</td>\n",
       "      <td>NaN</td>\n",
       "      <td>NaN</td>\n",
       "    </tr>\n",
       "  </tbody>\n",
       "</table>\n",
       "</div>"
      ],
      "text/plain": [
       "     X1     X2     X3      X4   X5  X6   X7  X8     Y1     Y2  Unnamed: 10  \\\n",
       "0  0.98  514.5  294.0  110.25  7.0   2  0.0   0  15.55  21.33          NaN   \n",
       "1  0.98  514.5  294.0  110.25  7.0   3  0.0   0  15.55  21.33          NaN   \n",
       "2  0.98  514.5  294.0  110.25  7.0   4  0.0   0  15.55  21.33          NaN   \n",
       "3  0.98  514.5  294.0  110.25  7.0   5  0.0   0  15.55  21.33          NaN   \n",
       "4  0.90  563.5  318.5  122.50  7.0   2  0.0   0  20.84  28.28          NaN   \n",
       "\n",
       "   Unnamed: 11  \n",
       "0          NaN  \n",
       "1          NaN  \n",
       "2          NaN  \n",
       "3          NaN  \n",
       "4          NaN  "
      ]
     },
     "execution_count": 2,
     "metadata": {},
     "output_type": "execute_result"
    }
   ],
   "source": [
    "df = pd.read_excel('ENB2012_data.xlsx')\n",
    "df.head()"
   ]
  },
  {
   "cell_type": "code",
   "execution_count": 3,
   "id": "19a8a6d2",
   "metadata": {},
   "outputs": [],
   "source": [
    "column_names = {'X1':'Relative_Compactness', 'X2': 'Surface_Area',\n",
    "'X3': 'Wall_Area', 'X4': 'Roof_Area', 'X5': 'Overall_Height',\n",
    "'X6': 'Orientation', 'X7': 'Glazing_Area',\n",
    "'X8': 'Glazing_Area_Distribution',\n",
    "'Y1': 'Heating_Load', 'Y2': 'Cooling_Load'}"
   ]
  },
  {
   "cell_type": "code",
   "execution_count": 4,
   "id": "14af6722",
   "metadata": {},
   "outputs": [],
   "source": [
    "df = df.rename(columns=column_names)\n",
    "df.drop(columns=['Unnamed: 10', 'Unnamed: 11'], inplace=True)"
   ]
  },
  {
   "cell_type": "code",
   "execution_count": 15,
   "id": "911ac6ad",
   "metadata": {},
   "outputs": [],
   "source": [
    "#Firstly, we normalise our dataset to a common scale using the min max scaler\n",
    "from sklearn.preprocessing import MinMaxScaler\n",
    "scaler = MinMaxScaler()\n",
    "# The fit_transform method is applied to df and the resulting normalized values are stored in a new pandas DataFrame normalised_df.\n",
    "#The columns of the new DataFrame are set to the columns of the original DataFrame (df.columns).\n",
    "normalised_df = pd.DataFrame(scaler.fit_transform(df), columns=df.columns)\n",
    "features_df = normalised_df.drop(columns=['Heating_Load', 'Cooling_Load'])\n",
    "#The column 'Heating_Load' of normalised_df is stored in the variable heating_target\n",
    "heating_target = normalised_df['Heating_Load']"
   ]
  },
  {
   "cell_type": "code",
   "execution_count": 16,
   "id": "f88de628",
   "metadata": {},
   "outputs": [],
   "source": [
    "from sklearn.model_selection import train_test_split\n",
    "x_train, x_test, y_train, y_test = train_test_split(features_df, heating_target,\n",
    "test_size=0.3, random_state=1)"
   ]
  },
  {
   "cell_type": "code",
   "execution_count": 17,
   "id": "adcde4e2",
   "metadata": {},
   "outputs": [],
   "source": [
    "from sklearn.linear_model import LinearRegression\n",
    "linear_model = LinearRegression()\n",
    "#fit the model to the training dataset\n",
    "linear_model.fit(x_train, y_train)\n",
    "#obtain predictions\n",
    "predicted_values = linear_model.predict(x_test)"
   ]
  },
  {
   "cell_type": "markdown",
   "id": "5aece2b7",
   "metadata": {},
   "source": [
    "#### Ridge Regression \n"
   ]
  },
  {
   "cell_type": "code",
   "execution_count": 18,
   "id": "f69e0fbf",
   "metadata": {},
   "outputs": [
    {
     "data": {
      "text/plain": [
       "Ridge(alpha=0.5)"
      ]
     },
     "execution_count": 18,
     "metadata": {},
     "output_type": "execute_result"
    }
   ],
   "source": [
    "from sklearn.linear_model import Ridge\n",
    "ridge_reg = Ridge(alpha=0.5)\n",
    "ridge_reg.fit(x_train, y_train)\n"
   ]
  },
  {
   "cell_type": "markdown",
   "id": "8cbf21c0",
   "metadata": {},
   "source": [
    "#### Feature Selection and Lasso Regression "
   ]
  },
  {
   "cell_type": "code",
   "execution_count": 19,
   "id": "1c26dafb",
   "metadata": {},
   "outputs": [
    {
     "data": {
      "text/plain": [
       "Lasso(alpha=0.001)"
      ]
     },
     "execution_count": 19,
     "metadata": {},
     "output_type": "execute_result"
    }
   ],
   "source": [
    "from sklearn.linear_model import Lasso\n",
    "lasso_reg = Lasso(alpha=0.001)\n",
    "lasso_reg.fit(x_train, y_train)"
   ]
  },
  {
   "cell_type": "code",
   "execution_count": 20,
   "id": "05b4f16b",
   "metadata": {},
   "outputs": [],
   "source": [
    "#comparing the effects of regularisation\n",
    "def get_weights_df(model, feat, col_name):\n",
    "    #this function returns the weight of every feature\n",
    "    weights = pd.Series(model.coef_, feat.columns).sort_values()\n",
    "    weights_df = pd.DataFrame(weights).reset_index()\n",
    "    weights_df.columns = ['Features', col_name]\n",
    "    weights_df[col_name].round(3)\n",
    "    return weights_df\n"
   ]
  },
  {
   "cell_type": "code",
   "execution_count": 21,
   "id": "c568e0d3",
   "metadata": {},
   "outputs": [],
   "source": [
    "linear_model_weights = get_weights_df(linear_model, x_train, 'Linear_Model_Weight')\n",
    "ridge_weights_df = get_weights_df(ridge_reg, x_train, 'Ridge_Weight')\n",
    "lasso_weights_df = get_weights_df(lasso_reg, x_train, 'Lasso_weight')\n",
    "final_weights = pd.merge(linear_model_weights, ridge_weights_df, on='Features')\n",
    "final_weights = pd.merge(final_weights, lasso_weights_df, on='Features')\n"
   ]
  },
  {
   "cell_type": "code",
   "execution_count": 22,
   "id": "9c46dbed",
   "metadata": {},
   "outputs": [
    {
     "data": {
      "text/html": [
       "<div>\n",
       "<style scoped>\n",
       "    .dataframe tbody tr th:only-of-type {\n",
       "        vertical-align: middle;\n",
       "    }\n",
       "\n",
       "    .dataframe tbody tr th {\n",
       "        vertical-align: top;\n",
       "    }\n",
       "\n",
       "    .dataframe thead th {\n",
       "        text-align: right;\n",
       "    }\n",
       "</style>\n",
       "<table border=\"1\" class=\"dataframe\">\n",
       "  <thead>\n",
       "    <tr style=\"text-align: right;\">\n",
       "      <th></th>\n",
       "      <th>Features</th>\n",
       "      <th>Linear_Model_Weight</th>\n",
       "      <th>Ridge_Weight</th>\n",
       "      <th>Lasso_weight</th>\n",
       "    </tr>\n",
       "  </thead>\n",
       "  <tbody>\n",
       "    <tr>\n",
       "      <th>0</th>\n",
       "      <td>Relative_Compactness</td>\n",
       "      <td>-0.606412</td>\n",
       "      <td>-0.283471</td>\n",
       "      <td>-0.027719</td>\n",
       "    </tr>\n",
       "    <tr>\n",
       "      <th>1</th>\n",
       "      <td>Roof_Area</td>\n",
       "      <td>-0.328099</td>\n",
       "      <td>-0.163192</td>\n",
       "      <td>-0.000000</td>\n",
       "    </tr>\n",
       "    <tr>\n",
       "      <th>2</th>\n",
       "      <td>Surface_Area</td>\n",
       "      <td>-0.235022</td>\n",
       "      <td>-0.062275</td>\n",
       "      <td>0.000000</td>\n",
       "    </tr>\n",
       "    <tr>\n",
       "      <th>3</th>\n",
       "      <td>Orientation</td>\n",
       "      <td>0.003399</td>\n",
       "      <td>0.003369</td>\n",
       "      <td>0.000000</td>\n",
       "    </tr>\n",
       "    <tr>\n",
       "      <th>4</th>\n",
       "      <td>Wall_Area</td>\n",
       "      <td>0.018947</td>\n",
       "      <td>0.103061</td>\n",
       "      <td>0.200087</td>\n",
       "    </tr>\n",
       "    <tr>\n",
       "      <th>5</th>\n",
       "      <td>Glazing_Area_Distribution</td>\n",
       "      <td>0.028452</td>\n",
       "      <td>0.029088</td>\n",
       "      <td>0.021431</td>\n",
       "    </tr>\n",
       "    <tr>\n",
       "      <th>6</th>\n",
       "      <td>Glazing_Area</td>\n",
       "      <td>0.215042</td>\n",
       "      <td>0.212449</td>\n",
       "      <td>0.206132</td>\n",
       "    </tr>\n",
       "    <tr>\n",
       "      <th>7</th>\n",
       "      <td>Overall_Height</td>\n",
       "      <td>0.393549</td>\n",
       "      <td>0.442467</td>\n",
       "      <td>0.463482</td>\n",
       "    </tr>\n",
       "  </tbody>\n",
       "</table>\n",
       "</div>"
      ],
      "text/plain": [
       "                    Features  Linear_Model_Weight  Ridge_Weight  Lasso_weight\n",
       "0       Relative_Compactness            -0.606412     -0.283471     -0.027719\n",
       "1                  Roof_Area            -0.328099     -0.163192     -0.000000\n",
       "2               Surface_Area            -0.235022     -0.062275      0.000000\n",
       "3                Orientation             0.003399      0.003369      0.000000\n",
       "4                  Wall_Area             0.018947      0.103061      0.200087\n",
       "5  Glazing_Area_Distribution             0.028452      0.029088      0.021431\n",
       "6               Glazing_Area             0.215042      0.212449      0.206132\n",
       "7             Overall_Height             0.393549      0.442467      0.463482"
      ]
     },
     "execution_count": 22,
     "metadata": {},
     "output_type": "execute_result"
    }
   ],
   "source": [
    "final_weights"
   ]
  },
  {
   "cell_type": "code",
   "execution_count": null,
   "id": "673df9be",
   "metadata": {},
   "outputs": [],
   "source": []
  }
 ],
 "metadata": {
  "kernelspec": {
   "display_name": "Python 3 (ipykernel)",
   "language": "python",
   "name": "python3"
  },
  "language_info": {
   "codemirror_mode": {
    "name": "ipython",
    "version": 3
   },
   "file_extension": ".py",
   "mimetype": "text/x-python",
   "name": "python",
   "nbconvert_exporter": "python",
   "pygments_lexer": "ipython3",
   "version": "3.8.8"
  }
 },
 "nbformat": 4,
 "nbformat_minor": 5
}
