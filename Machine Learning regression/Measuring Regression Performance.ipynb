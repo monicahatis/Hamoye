{
 "cells": [
  {
   "cell_type": "markdown",
   "id": "8a4f8f31",
   "metadata": {},
   "source": [
    "## Measuring Regression Performance"
   ]
  },
  {
   "cell_type": "code",
   "execution_count": 3,
   "id": "d65749ee",
   "metadata": {},
   "outputs": [],
   "source": [
    "import pandas as pd\n",
    "import numpy as np\n",
    "import seaborn as sns"
   ]
  },
  {
   "cell_type": "code",
   "execution_count": 4,
   "id": "56edc277",
   "metadata": {},
   "outputs": [
    {
     "data": {
      "text/html": [
       "<div>\n",
       "<style scoped>\n",
       "    .dataframe tbody tr th:only-of-type {\n",
       "        vertical-align: middle;\n",
       "    }\n",
       "\n",
       "    .dataframe tbody tr th {\n",
       "        vertical-align: top;\n",
       "    }\n",
       "\n",
       "    .dataframe thead th {\n",
       "        text-align: right;\n",
       "    }\n",
       "</style>\n",
       "<table border=\"1\" class=\"dataframe\">\n",
       "  <thead>\n",
       "    <tr style=\"text-align: right;\">\n",
       "      <th></th>\n",
       "      <th>X1</th>\n",
       "      <th>X2</th>\n",
       "      <th>X3</th>\n",
       "      <th>X4</th>\n",
       "      <th>X5</th>\n",
       "      <th>X6</th>\n",
       "      <th>X7</th>\n",
       "      <th>X8</th>\n",
       "      <th>Y1</th>\n",
       "      <th>Y2</th>\n",
       "      <th>Unnamed: 10</th>\n",
       "      <th>Unnamed: 11</th>\n",
       "    </tr>\n",
       "  </thead>\n",
       "  <tbody>\n",
       "    <tr>\n",
       "      <th>0</th>\n",
       "      <td>0.98</td>\n",
       "      <td>514.5</td>\n",
       "      <td>294.0</td>\n",
       "      <td>110.25</td>\n",
       "      <td>7.0</td>\n",
       "      <td>2</td>\n",
       "      <td>0.0</td>\n",
       "      <td>0</td>\n",
       "      <td>15.55</td>\n",
       "      <td>21.33</td>\n",
       "      <td>NaN</td>\n",
       "      <td>NaN</td>\n",
       "    </tr>\n",
       "    <tr>\n",
       "      <th>1</th>\n",
       "      <td>0.98</td>\n",
       "      <td>514.5</td>\n",
       "      <td>294.0</td>\n",
       "      <td>110.25</td>\n",
       "      <td>7.0</td>\n",
       "      <td>3</td>\n",
       "      <td>0.0</td>\n",
       "      <td>0</td>\n",
       "      <td>15.55</td>\n",
       "      <td>21.33</td>\n",
       "      <td>NaN</td>\n",
       "      <td>NaN</td>\n",
       "    </tr>\n",
       "    <tr>\n",
       "      <th>2</th>\n",
       "      <td>0.98</td>\n",
       "      <td>514.5</td>\n",
       "      <td>294.0</td>\n",
       "      <td>110.25</td>\n",
       "      <td>7.0</td>\n",
       "      <td>4</td>\n",
       "      <td>0.0</td>\n",
       "      <td>0</td>\n",
       "      <td>15.55</td>\n",
       "      <td>21.33</td>\n",
       "      <td>NaN</td>\n",
       "      <td>NaN</td>\n",
       "    </tr>\n",
       "    <tr>\n",
       "      <th>3</th>\n",
       "      <td>0.98</td>\n",
       "      <td>514.5</td>\n",
       "      <td>294.0</td>\n",
       "      <td>110.25</td>\n",
       "      <td>7.0</td>\n",
       "      <td>5</td>\n",
       "      <td>0.0</td>\n",
       "      <td>0</td>\n",
       "      <td>15.55</td>\n",
       "      <td>21.33</td>\n",
       "      <td>NaN</td>\n",
       "      <td>NaN</td>\n",
       "    </tr>\n",
       "    <tr>\n",
       "      <th>4</th>\n",
       "      <td>0.90</td>\n",
       "      <td>563.5</td>\n",
       "      <td>318.5</td>\n",
       "      <td>122.50</td>\n",
       "      <td>7.0</td>\n",
       "      <td>2</td>\n",
       "      <td>0.0</td>\n",
       "      <td>0</td>\n",
       "      <td>20.84</td>\n",
       "      <td>28.28</td>\n",
       "      <td>NaN</td>\n",
       "      <td>NaN</td>\n",
       "    </tr>\n",
       "  </tbody>\n",
       "</table>\n",
       "</div>"
      ],
      "text/plain": [
       "     X1     X2     X3      X4   X5  X6   X7  X8     Y1     Y2  Unnamed: 10  \\\n",
       "0  0.98  514.5  294.0  110.25  7.0   2  0.0   0  15.55  21.33          NaN   \n",
       "1  0.98  514.5  294.0  110.25  7.0   3  0.0   0  15.55  21.33          NaN   \n",
       "2  0.98  514.5  294.0  110.25  7.0   4  0.0   0  15.55  21.33          NaN   \n",
       "3  0.98  514.5  294.0  110.25  7.0   5  0.0   0  15.55  21.33          NaN   \n",
       "4  0.90  563.5  318.5  122.50  7.0   2  0.0   0  20.84  28.28          NaN   \n",
       "\n",
       "   Unnamed: 11  \n",
       "0          NaN  \n",
       "1          NaN  \n",
       "2          NaN  \n",
       "3          NaN  \n",
       "4          NaN  "
      ]
     },
     "execution_count": 4,
     "metadata": {},
     "output_type": "execute_result"
    }
   ],
   "source": [
    "df = pd.read_excel('ENB2012_data.xlsx')\n",
    "df.head()"
   ]
  },
  {
   "cell_type": "code",
   "execution_count": 6,
   "id": "9d6baeee",
   "metadata": {},
   "outputs": [],
   "source": [
    "column_names = {'X1':'Relative_Compactness', 'X2': 'Surface_Area',\n",
    "'X3': 'Wall_Area', 'X4': 'Roof_Area', 'X5': 'Overall_Height',\n",
    "'X6': 'Orientation', 'X7': 'Glazing_Area',\n",
    "'X8': 'Glazing_Area_Distribution',\n",
    "'Y1': 'Heating_Load', 'Y2': 'Cooling_Load'}"
   ]
  },
  {
   "cell_type": "code",
   "execution_count": 12,
   "id": "cfd4873a",
   "metadata": {},
   "outputs": [],
   "source": [
    "df = df.rename(columns=column_names)\n",
    "df.drop(columns=['Unnamed: 10', 'Unnamed: 11'], inplace=True)"
   ]
  },
  {
   "cell_type": "markdown",
   "id": "b4f4d7c3",
   "metadata": {},
   "source": [
    "### Mean Absolute Error (MAE) \n"
   ]
  },
  {
   "cell_type": "code",
   "execution_count": 13,
   "id": "8be124ee",
   "metadata": {},
   "outputs": [],
   "source": [
    "\n",
    "#Firstly, we normalise our dataset to a common scale using the min max scaler\n",
    "from sklearn.preprocessing import MinMaxScaler\n",
    "scaler = MinMaxScaler()\n",
    "# The fit_transform method is applied to df and the resulting normalized values are stored in a new pandas DataFrame normalised_df.\n",
    "#The columns of the new DataFrame are set to the columns of the original DataFrame (df.columns).\n",
    "normalised_df = pd.DataFrame(scaler.fit_transform(df), columns=df.columns)\n",
    "features_df = normalised_df.drop(columns=['Heating_Load', 'Cooling_Load'])\n",
    "#The column 'Heating_Load' of normalised_df is stored in the variable heating_target\n",
    "heating_target = normalised_df['Heating_Load']"
   ]
  },
  {
   "cell_type": "code",
   "execution_count": 14,
   "id": "c165d018",
   "metadata": {},
   "outputs": [],
   "source": [
    "#Now, we split our dataset into the training and testing dataset. Recall that we\n",
    "#had earlier segmented the features and target variables.\n",
    "# random_state is set to 1, which means that the same random sample will be used each time the code is run,\n",
    "#making the results reproducible.\n",
    "from sklearn.model_selection import train_test_split\n",
    "x_train, x_test, y_train, y_test = train_test_split(features_df, heating_target,\n",
    "test_size=0.3, random_state=1)\n"
   ]
  },
  {
   "cell_type": "code",
   "execution_count": 15,
   "id": "98ff82dd",
   "metadata": {},
   "outputs": [
    {
     "data": {
      "text/plain": [
       "0.063"
      ]
     },
     "execution_count": 15,
     "metadata": {},
     "output_type": "execute_result"
    }
   ],
   "source": [
    "from sklearn.linear_model import LinearRegression\n",
    "linear_model = LinearRegression()\n",
    "#fit the model to the training dataset\n",
    "linear_model.fit(x_train, y_train)\n",
    "#obtain predictions\n",
    "predicted_values = linear_model.predict(x_test)\n",
    "#MAE\n",
    "from sklearn.metrics import mean_absolute_error\n",
    "mae = mean_absolute_error(y_test, predicted_values)\n",
    "round(mae, 3)"
   ]
  },
  {
   "cell_type": "markdown",
   "id": "c5a9d31d",
   "metadata": {},
   "source": [
    "### Residual Sum of Squares (RSS) \n"
   ]
  },
  {
   "cell_type": "code",
   "execution_count": 16,
   "id": "e9043081",
   "metadata": {},
   "outputs": [
    {
     "data": {
      "text/plain": [
       "1.817"
      ]
     },
     "execution_count": 16,
     "metadata": {},
     "output_type": "execute_result"
    }
   ],
   "source": [
    "rss = np.sum(np.square(y_test - predicted_values))\n",
    "round(rss, 3)"
   ]
  },
  {
   "cell_type": "markdown",
   "id": "8770cd2a",
   "metadata": {},
   "source": [
    "### Root Mean Square Error (RMSE)"
   ]
  },
  {
   "cell_type": "code",
   "execution_count": 17,
   "id": "81874321",
   "metadata": {},
   "outputs": [
    {
     "data": {
      "text/plain": [
       "0.089"
      ]
     },
     "execution_count": 17,
     "metadata": {},
     "output_type": "execute_result"
    }
   ],
   "source": [
    "from sklearn.metrics import mean_squared_error\n",
    "rmse = np.sqrt(mean_squared_error(y_test, predicted_values))\n",
    "round(rmse, 3) "
   ]
  },
  {
   "cell_type": "markdown",
   "id": "5415c32f",
   "metadata": {},
   "source": [
    "### R-Squared "
   ]
  },
  {
   "cell_type": "code",
   "execution_count": 18,
   "id": "9adac8e3",
   "metadata": {},
   "outputs": [
    {
     "data": {
      "text/plain": [
       "0.894"
      ]
     },
     "execution_count": 18,
     "metadata": {},
     "output_type": "execute_result"
    }
   ],
   "source": [
    "from sklearn.metrics import r2_score\n",
    "r2_score = r2_score(y_test, predicted_values)\n",
    "round(r2_score, 3)"
   ]
  },
  {
   "cell_type": "code",
   "execution_count": null,
   "id": "7267ea1c",
   "metadata": {},
   "outputs": [],
   "source": []
  }
 ],
 "metadata": {
  "kernelspec": {
   "display_name": "Python 3 (ipykernel)",
   "language": "python",
   "name": "python3"
  },
  "language_info": {
   "codemirror_mode": {
    "name": "ipython",
    "version": 3
   },
   "file_extension": ".py",
   "mimetype": "text/x-python",
   "name": "python",
   "nbconvert_exporter": "python",
   "pygments_lexer": "ipython3",
   "version": "3.8.8"
  }
 },
 "nbformat": 4,
 "nbformat_minor": 5
}
