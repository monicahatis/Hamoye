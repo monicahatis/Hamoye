{
 "cells": [
  {
   "cell_type": "markdown",
   "id": "17e6d5c2",
   "metadata": {},
   "source": [
    "## Introducing Pandas data structures: Series, DataFrames and Index objects."
   ]
  },
  {
   "cell_type": "markdown",
   "id": "a3635c61",
   "metadata": {},
   "source": [
    "Pandas is a library built on Numpy which is used for data manipulation, with other ways of indexing other than integers. \n",
    "\n",
    "Series, DataFrame, and index are the basic data structures in this library.\n",
    "\n",
    "Series in pandas can be referred to as a one dimensional array with homogenous elements of different types somewhat similar to numpy arrays; however, it can be indexed differently with specified descriptive labels or integers.  "
   ]
  },
  {
   "cell_type": "code",
   "execution_count": 2,
   "id": "13a27961",
   "metadata": {},
   "outputs": [
    {
     "name": "stdout",
     "output_type": "stream",
     "text": [
      "0    Mon\n",
      "1    Tue\n",
      "2    Wen\n",
      "dtype: object\n"
     ]
    }
   ],
   "source": [
    "import pandas as pd\n",
    "days=pd.Series(['Mon', 'Tue', 'Wen'])\n",
    "print(days)"
   ]
  },
  {
   "cell_type": "code",
   "execution_count": 4,
   "id": "d833f135",
   "metadata": {},
   "outputs": [
    {
     "name": "stdout",
     "output_type": "stream",
     "text": [
      "0    Mon\n",
      "1    Tue\n",
      "2    Wen\n",
      "dtype: object\n"
     ]
    }
   ],
   "source": [
    "#Creating series with a numpy array\n",
    "import numpy as np\n",
    "day_list=np.array(['Mon', 'Tue', 'Wen'])\n",
    "numpy_days=pd.Series(day_list)\n",
    "print(numpy_days)"
   ]
  },
  {
   "cell_type": "code",
   "execution_count": 6,
   "id": "19795866",
   "metadata": {},
   "outputs": [
    {
     "name": "stdout",
     "output_type": "stream",
     "text": [
      "a    Mon\n",
      "b    Tue\n",
      "c    Wen\n",
      "dtype: object\n"
     ]
    }
   ],
   "source": [
    "days=pd.Series(['Mon', 'Tue', 'Wen'], index=['a', 'b', 'c'])\n",
    "print(days)"
   ]
  },
  {
   "cell_type": "markdown",
   "id": "478f6c75",
   "metadata": {},
   "source": [
    "#### Series can be accessed using the specified index as shown below"
   ]
  },
  {
   "cell_type": "code",
   "execution_count": 7,
   "id": "12856e82",
   "metadata": {},
   "outputs": [
    {
     "data": {
      "text/plain": [
       "'Mon'"
      ]
     },
     "execution_count": 7,
     "metadata": {},
     "output_type": "execute_result"
    }
   ],
   "source": [
    "days[0]"
   ]
  },
  {
   "cell_type": "code",
   "execution_count": 8,
   "id": "b5873ce7",
   "metadata": {},
   "outputs": [
    {
     "data": {
      "text/plain": [
       "b    Tue\n",
       "c    Wen\n",
       "dtype: object"
      ]
     },
     "execution_count": 8,
     "metadata": {},
     "output_type": "execute_result"
    }
   ],
   "source": [
    "days[1:]"
   ]
  },
  {
   "cell_type": "code",
   "execution_count": 9,
   "id": "bf497aaf",
   "metadata": {},
   "outputs": [
    {
     "data": {
      "text/plain": [
       "'Wen'"
      ]
     },
     "execution_count": 9,
     "metadata": {},
     "output_type": "execute_result"
    }
   ],
   "source": [
    "days['c']"
   ]
  },
  {
   "cell_type": "markdown",
   "id": "b28373e9",
   "metadata": {},
   "source": [
    "### DATAFRAMES"
   ]
  },
  {
   "cell_type": "markdown",
   "id": "c65c61b5",
   "metadata": {},
   "source": [
    "A DataFrame can be described as a table (2 dimensions) made up of many series with the same index.\n",
    "\n",
    "It holds data in rows and columns just like a spreadsheet. \n",
    "\n",
    "Series, dictionaries, lists, other dataframes, and numpy arrays can be used to create new ones. "
   ]
  },
  {
   "cell_type": "code",
   "execution_count": 10,
   "id": "a6460bb6",
   "metadata": {},
   "outputs": [
    {
     "name": "stdout",
     "output_type": "stream",
     "text": [
      "Empty DataFrame\n",
      "Columns: []\n",
      "Index: []\n"
     ]
    }
   ],
   "source": [
    "print(pd.DataFrame())"
   ]
  },
  {
   "cell_type": "code",
   "execution_count": 12,
   "id": "3e4d296b",
   "metadata": {},
   "outputs": [
    {
     "data": {
      "text/html": [
       "<div>\n",
       "<style scoped>\n",
       "    .dataframe tbody tr th:only-of-type {\n",
       "        vertical-align: middle;\n",
       "    }\n",
       "\n",
       "    .dataframe tbody tr th {\n",
       "        vertical-align: top;\n",
       "    }\n",
       "\n",
       "    .dataframe thead th {\n",
       "        text-align: right;\n",
       "    }\n",
       "</style>\n",
       "<table border=\"1\" class=\"dataframe\">\n",
       "  <thead>\n",
       "    <tr style=\"text-align: right;\">\n",
       "      <th></th>\n",
       "      <th>Country</th>\n",
       "      <th>capital</th>\n",
       "      <th>Population</th>\n",
       "      <th>Age</th>\n",
       "    </tr>\n",
       "  </thead>\n",
       "  <tbody>\n",
       "    <tr>\n",
       "      <th>2</th>\n",
       "      <td>Ghana</td>\n",
       "      <td>Accra</td>\n",
       "      <td>285849</td>\n",
       "      <td>20</td>\n",
       "    </tr>\n",
       "    <tr>\n",
       "      <th>4</th>\n",
       "      <td>Kenya</td>\n",
       "      <td>Nairobi</td>\n",
       "      <td>7493494</td>\n",
       "      <td>68</td>\n",
       "    </tr>\n",
       "    <tr>\n",
       "      <th>6</th>\n",
       "      <td>Nigeria</td>\n",
       "      <td>Abuja</td>\n",
       "      <td>9383783</td>\n",
       "      <td>67</td>\n",
       "    </tr>\n",
       "    <tr>\n",
       "      <th>8</th>\n",
       "      <td>Togo</td>\n",
       "      <td>Lone</td>\n",
       "      <td>998370</td>\n",
       "      <td>23</td>\n",
       "    </tr>\n",
       "  </tbody>\n",
       "</table>\n",
       "</div>"
      ],
      "text/plain": [
       "   Country  capital  Population  Age\n",
       "2    Ghana    Accra      285849   20\n",
       "4    Kenya  Nairobi     7493494   68\n",
       "6  Nigeria    Abuja     9383783   67\n",
       "8     Togo     Lone      998370   23"
      ]
     },
     "execution_count": 12,
     "metadata": {},
     "output_type": "execute_result"
    }
   ],
   "source": [
    "# Create a dataframe from a dictionary\n",
    "df_dict = {'Country' : ['Ghana', 'Kenya', 'Nigeria', 'Togo'],\n",
    "          'capital' : ['Accra', 'Nairobi', 'Abuja', 'Lone'],\n",
    "          'Population' : [285849, 7493494, 9383783, 998370],\n",
    "          'Age' : [20,68,67,23]}\n",
    "df = pd.DataFrame(df_dict, index=[2,4,6,8])\n",
    "df"
   ]
  },
  {
   "cell_type": "markdown",
   "id": "bb83e077",
   "metadata": {},
   "source": [
    "at, iat, iloc and loc are accessors used to retrieve data in dataframes.\n",
    "\n",
    "iloc selects values from the rows and columns by using integer index to locate positions,\n",
    "\n",
    "while loc selects rows or columns using labels. \n",
    "\n",
    "at and iat are used to retrieve single values such that at uses the column and row labels and iat uses indices."
   ]
  },
  {
   "cell_type": "code",
   "execution_count": 13,
   "id": "5a15baa5",
   "metadata": {},
   "outputs": [
    {
     "data": {
      "text/plain": [
       "Country         Togo\n",
       "capital         Lone\n",
       "Population    998370\n",
       "Age               23\n",
       "Name: 8, dtype: object"
      ]
     },
     "execution_count": 13,
     "metadata": {},
     "output_type": "execute_result"
    }
   ],
   "source": [
    "df.iloc[3]"
   ]
  },
  {
   "cell_type": "code",
   "execution_count": 15,
   "id": "64b0762a",
   "metadata": {},
   "outputs": [
    {
     "data": {
      "text/plain": [
       "Country       Nigeria\n",
       "capital         Abuja\n",
       "Population    9383783\n",
       "Age                67\n",
       "Name: 6, dtype: object"
      ]
     },
     "execution_count": 15,
     "metadata": {},
     "output_type": "execute_result"
    }
   ],
   "source": [
    "df.loc[6]"
   ]
  },
  {
   "cell_type": "code",
   "execution_count": 16,
   "id": "a2339676",
   "metadata": {},
   "outputs": [
    {
     "data": {
      "text/plain": [
       "2      Accra\n",
       "4    Nairobi\n",
       "6      Abuja\n",
       "8       Lone\n",
       "Name: capital, dtype: object"
      ]
     },
     "execution_count": 16,
     "metadata": {},
     "output_type": "execute_result"
    }
   ],
   "source": [
    "df['capital']"
   ]
  },
  {
   "cell_type": "code",
   "execution_count": 20,
   "id": "d3466cf6",
   "metadata": {},
   "outputs": [
    {
     "data": {
      "text/plain": [
       "'Nigeria'"
      ]
     },
     "execution_count": 20,
     "metadata": {},
     "output_type": "execute_result"
    }
   ],
   "source": [
    "df.at[6, 'Country']"
   ]
  },
  {
   "cell_type": "code",
   "execution_count": 21,
   "id": "8f6072f8",
   "metadata": {},
   "outputs": [
    {
     "data": {
      "text/plain": [
       "'Abuja'"
      ]
     },
     "execution_count": 21,
     "metadata": {},
     "output_type": "execute_result"
    }
   ],
   "source": [
    "df.iat[2,1]"
   ]
  },
  {
   "cell_type": "markdown",
   "id": "caeb6596",
   "metadata": {},
   "source": [
    "Finally, Indexes in pandas are immutable arrays with unique elements. They can also be described as ordered sets for retrieving data in a dataframe and collaborating with multiple dataframes.\n",
    "\n",
    "The important Pandas functionalities: indexing, reindexing, selection, group, drop entities, ranking, sorting, duplicates and indexing by hierarchy.\n",
    "\n",
    "Summary and descriptive statistics: measure of central tendency, measure of dispersion, skewness and kurtosis, correlation and multicollinearity."
   ]
  },
  {
   "cell_type": "markdown",
   "id": "15404c72",
   "metadata": {},
   "source": [
    "Similar to Numpy, Pandas has some functions that provide descriptive statistics such as the measures of central tendency, dispersion, skewness and kurtosis, correlation and multicollinearity. \n",
    "\n",
    "Some functions are mode(), median(), mean(), sum(), std(), var(), skew(), kurt() and min().\n",
    "\n",
    "The describe function gives the summary  of the numeric columns in a dataframe displaying count, mean, standard deviation, interquartile range, minimum and maximum values.\n",
    "\n"
   ]
  },
  {
   "cell_type": "code",
   "execution_count": 23,
   "id": "5386e41d",
   "metadata": {},
   "outputs": [
    {
     "data": {
      "text/plain": [
       "18161496"
      ]
     },
     "execution_count": 23,
     "metadata": {},
     "output_type": "execute_result"
    }
   ],
   "source": [
    "df['Population'].sum()"
   ]
  },
  {
   "cell_type": "code",
   "execution_count": 24,
   "id": "5d958171",
   "metadata": {},
   "outputs": [
    {
     "data": {
      "text/plain": [
       "Population    4540374.0\n",
       "Age                44.5\n",
       "dtype: float64"
      ]
     },
     "execution_count": 24,
     "metadata": {},
     "output_type": "execute_result"
    }
   ],
   "source": [
    "df.mean()"
   ]
  },
  {
   "cell_type": "code",
   "execution_count": 25,
   "id": "4f22e78e",
   "metadata": {},
   "outputs": [
    {
     "data": {
      "text/html": [
       "<div>\n",
       "<style scoped>\n",
       "    .dataframe tbody tr th:only-of-type {\n",
       "        vertical-align: middle;\n",
       "    }\n",
       "\n",
       "    .dataframe tbody tr th {\n",
       "        vertical-align: top;\n",
       "    }\n",
       "\n",
       "    .dataframe thead th {\n",
       "        text-align: right;\n",
       "    }\n",
       "</style>\n",
       "<table border=\"1\" class=\"dataframe\">\n",
       "  <thead>\n",
       "    <tr style=\"text-align: right;\">\n",
       "      <th></th>\n",
       "      <th>Population</th>\n",
       "      <th>Age</th>\n",
       "    </tr>\n",
       "  </thead>\n",
       "  <tbody>\n",
       "    <tr>\n",
       "      <th>count</th>\n",
       "      <td>4.000000e+00</td>\n",
       "      <td>4.000000</td>\n",
       "    </tr>\n",
       "    <tr>\n",
       "      <th>mean</th>\n",
       "      <td>4.540374e+06</td>\n",
       "      <td>44.500000</td>\n",
       "    </tr>\n",
       "    <tr>\n",
       "      <th>std</th>\n",
       "      <td>4.576254e+06</td>\n",
       "      <td>26.589472</td>\n",
       "    </tr>\n",
       "    <tr>\n",
       "      <th>min</th>\n",
       "      <td>2.858490e+05</td>\n",
       "      <td>20.000000</td>\n",
       "    </tr>\n",
       "    <tr>\n",
       "      <th>25%</th>\n",
       "      <td>8.202398e+05</td>\n",
       "      <td>22.250000</td>\n",
       "    </tr>\n",
       "    <tr>\n",
       "      <th>50%</th>\n",
       "      <td>4.245932e+06</td>\n",
       "      <td>45.000000</td>\n",
       "    </tr>\n",
       "    <tr>\n",
       "      <th>75%</th>\n",
       "      <td>7.966066e+06</td>\n",
       "      <td>67.250000</td>\n",
       "    </tr>\n",
       "    <tr>\n",
       "      <th>max</th>\n",
       "      <td>9.383783e+06</td>\n",
       "      <td>68.000000</td>\n",
       "    </tr>\n",
       "  </tbody>\n",
       "</table>\n",
       "</div>"
      ],
      "text/plain": [
       "         Population        Age\n",
       "count  4.000000e+00   4.000000\n",
       "mean   4.540374e+06  44.500000\n",
       "std    4.576254e+06  26.589472\n",
       "min    2.858490e+05  20.000000\n",
       "25%    8.202398e+05  22.250000\n",
       "50%    4.245932e+06  45.000000\n",
       "75%    7.966066e+06  67.250000\n",
       "max    9.383783e+06  68.000000"
      ]
     },
     "execution_count": 25,
     "metadata": {},
     "output_type": "execute_result"
    }
   ],
   "source": [
    "df.describe()"
   ]
  },
  {
   "cell_type": "markdown",
   "id": "f0a0c6c1",
   "metadata": {},
   "source": [
    "Often, data used for analysis in real life scenarios is incomplete as a result of omission, faulty devices, and many other factors.\n",
    "\n",
    "Pandas represent missing values as NA or NaN which can be filled, removed, and detected with functions like fillna(), dropna(), isnull(), notnull(), replace()."
   ]
  },
  {
   "cell_type": "code",
   "execution_count": null,
   "id": "d74e228a",
   "metadata": {},
   "outputs": [],
   "source": []
  }
 ],
 "metadata": {
  "kernelspec": {
   "display_name": "Python 3 (ipykernel)",
   "language": "python",
   "name": "python3"
  },
  "language_info": {
   "codemirror_mode": {
    "name": "ipython",
    "version": 3
   },
   "file_extension": ".py",
   "mimetype": "text/x-python",
   "name": "python",
   "nbconvert_exporter": "python",
   "pygments_lexer": "ipython3",
   "version": "3.8.8"
  }
 },
 "nbformat": 4,
 "nbformat_minor": 5
}
