{
 "cells": [
  {
   "cell_type": "markdown",
   "id": "92dbfc27",
   "metadata": {},
   "source": [
    "## DATA VISUALIZATION AND REPRESENTATION IN PYTHON"
   ]
  },
  {
   "cell_type": "markdown",
   "id": "9e367512",
   "metadata": {},
   "source": [
    "It is essential to note that while statistics are important and give a description of the dataset,\n",
    "it is not sufficient to use the results alone without plotting the data to obtain a holistic view of the overall distribution.\n",
    "\n",
    "Anscombe Quartet identifies that different datasets can have the same or very identical statistical properties\n",
    "such that they can be labelled the same, but when graphed, they are seen to have different distributions. "
   ]
  },
  {
   "cell_type": "markdown",
   "id": "dbc1d758",
   "metadata": {},
   "source": [
    "#### Plotting: Area plots, Histograms, Bar charts, Pie Charts and Scatter Charts"
   ]
  },
  {
   "cell_type": "markdown",
   "id": "a363baed",
   "metadata": {},
   "source": [
    "There are several types of charts used in data visualisation which are selected based on the data and the information aimed to be communicated.\n",
    "\n",
    "Area plots, histograms, bar charts, pie charts, and scatter charts are some of the simple and common graphs used in data analysis.\n",
    "\n",
    "Graphs assist in understanding data when performing EDA and in conveying insights easily. "
   ]
  },
  {
   "cell_type": "markdown",
   "id": "88c495db",
   "metadata": {},
   "source": [
    "A line graph is a basic plot that displays the relationship between two variables on each axis by connecting data points together with straight lines. \n",
    "\n",
    "To show magnitude, the segment between the line and the x-axis is filled which results in an area graph. \n",
    "\n",
    "Histograms and bar charts are completely different plots that can be mistaken as similar. \n",
    "\n",
    "The former are charts used to represent the distribution of a group and use adjacent rectangular bars to display the frequency of intervals\n",
    "\n",
    "while the latter are charts that represent categories using equally spaced rectangular bars. \n",
    "\n"
   ]
  },
  {
   "cell_type": "code",
   "execution_count": 2,
   "id": "87785682",
   "metadata": {},
   "outputs": [],
   "source": [
    "# Import plotting library\n",
    "\n",
    "import matplotlib.pyplot as plt\n",
    "plt.xticks(rotation=90)\n",
    "fuel_unit = pd.DataFrame({'unit':['BBL', 'GAL', 'GRAMSU', 'KGU', 'MCF', 'MMBTU',\n",
    "'MWDTH', 'MWHTH', 'TON'],\n",
    "'count':[7998, 84, 464, 110, 11354, 180, 95, 100, 8958]})\n",
    "sns.barplot(data=fuel_unit, x='unit', y='count')\n",
    "plt.xlabel('Fuel Unit')\n",
    "#Because of the extreme range of the values for the fuel unit, we can plot the\n",
    "#barchart by taking the logarithm of the y-axis as follows:\n",
    "g = sns.barplot(data=fuel_unit, x='unit', y='count')\n",
    "g.set_yscale(\"log\")\n",
    "g.set_ylim(1, 12000)\n",
    "plt.xlabel('Fuel Unit')\n"
   ]
  },
  {
   "cell_type": "code",
   "execution_count": null,
   "id": "edeeea3d",
   "metadata": {},
   "outputs": [],
   "source": [
    "# Select a sample of the dataset\n",
    "sample_df = fuel_data.sample(n=50, random_state=4)\n",
    "sns.regplot(x=sample_df[\"utility_id_ferc1\"], y=sample_df[\"fuel_cost_per_mmbtu\"],\n",
    "fit_reg=False)"
   ]
  }
 ],
 "metadata": {
  "kernelspec": {
   "display_name": "Python 3 (ipykernel)",
   "language": "python",
   "name": "python3"
  },
  "language_info": {
   "codemirror_mode": {
    "name": "ipython",
    "version": 3
   },
   "file_extension": ".py",
   "mimetype": "text/x-python",
   "name": "python",
   "nbconvert_exporter": "python",
   "pygments_lexer": "ipython3",
   "version": "3.8.8"
  }
 },
 "nbformat": 4,
 "nbformat_minor": 5
}
