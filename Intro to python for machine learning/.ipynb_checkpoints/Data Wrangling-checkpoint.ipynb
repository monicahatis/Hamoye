{
 "cells": [
  {
   "cell_type": "markdown",
   "id": "829646fa",
   "metadata": {},
   "source": [
    "## DATA TYPES AND DATA WRANGLING"
   ]
  },
  {
   "cell_type": "markdown",
   "id": "bc342146",
   "metadata": {},
   "source": [
    "The pandas library is vast enough to read data from and save to several file formats such as CSV, JSON, HTML and even databases."
   ]
  },
  {
   "cell_type": "code",
   "execution_count": null,
   "id": "2e17f4ec",
   "metadata": {},
   "outputs": [],
   "source": [
    "#From csv\n",
    "csv_df = pd.read_csv('sample_file.csv')\n",
    "csv_df.to_csv('sample_file.csv', index=False)\n",
    "\n",
    "#from xcl\n",
    "excel_df = pd.read_excel('sample_file.xlsx')\n",
    "excel_df.to_excel('sample_file.xlsx')\n",
    "\n",
    "#from webpage\n",
    "html_df = pd.read_html('link')\n",
    "html_df.to_html('sample_file.html')"
   ]
  },
  {
   "cell_type": "code",
   "execution_count": null,
   "id": "27056538",
   "metadata": {},
   "outputs": [],
   "source": [
    "#Checking for missing values\n",
    "fuel_data.isnull().sum()"
   ]
  },
  {
   "cell_type": "markdown",
   "id": "3046b15a",
   "metadata": {},
   "source": [
    "A dataframe can be easily categorised into different segments based on a given criteria using the groupby() function.\n",
    "\n",
    "This initially splits the dataframe into the groups then applies a function to the groups after which the results are combined."
   ]
  },
  {
   "cell_type": "code",
   "execution_count": null,
   "id": "d3582a86",
   "metadata": {},
   "outputs": [],
   "source": [
    "fuel_data.groupby('fuel_unit')['fuel_unit'].count()"
   ]
  },
  {
   "cell_type": "markdown",
   "id": "9f207544",
   "metadata": {},
   "source": [
    "Merging in Pandas can be likened to join operations in relational databases like SQL.\n",
    "\n",
    "Left, inner, right and outer are the merging methods available to the merge() function.\n",
    "The left method can be likened to SQL left outer join,  inner to  SQL inner join, right to SQL right outer join and outer to SQL full outer join.\n",
    "\n",
    "In our analysis, we split the fuel data into two groups and merge using different methods."
   ]
  },
  {
   "cell_type": "code",
   "execution_count": null,
   "id": "06a3a9a2",
   "metadata": {},
   "outputs": [],
   "source": [
    "# Removes rows that do not match in both dataframes\n",
    "pd.merge(fuel_1, fuel_2, how=inner)"
   ]
  },
  {
   "cell_type": "code",
   "execution_count": null,
   "id": "5542c103",
   "metadata": {},
   "outputs": [],
   "source": [
    "#returns all rows in both dataframes\n",
    "pd.merge(fuel_1, fuel_2, how=outer)"
   ]
  },
  {
   "cell_type": "code",
   "execution_count": null,
   "id": "8707489f",
   "metadata": {},
   "outputs": [],
   "source": [
    "#Removes rows from the right dataframe that do not have a match with the left and keeps all rows from the left\n",
    "pd.merge(fuel_1, fuel_2, how=left)"
   ]
  },
  {
   "cell_type": "code",
   "execution_count": null,
   "id": "91c7403c",
   "metadata": {},
   "outputs": [],
   "source": [
    "#Removes rows from the left dataframe that do not have a match with the right and keeps all rows from the right\n",
    "pd.merge(fuel_1, fuel_2, how=right)"
   ]
  },
  {
   "cell_type": "markdown",
   "id": "b9803416",
   "metadata": {},
   "source": [
    "Concatenation is performed with the concat() function by combining series or dataframes while keeping the indices of the individual unit irrespective of duplicate indices. \n",
    "\n",
    "In the notebook, we created a dummy dataframe data_to_concat which we concatenated to the fuel_data as below:\n",
    "\n"
   ]
  },
  {
   "cell_type": "code",
   "execution_count": null,
   "id": "da06750a",
   "metadata": {},
   "outputs": [],
   "source": [
    "pd.concat([fuel_data, data_to_concat]).reset_index(drop=True)"
   ]
  },
  {
   "cell_type": "markdown",
   "id": "ab4d3aca",
   "metadata": {},
   "source": [
    "Duplicates are a common occurrence in datasets which alter the results of data analysis. \n",
    "\n",
    "Hence, in practice, removing duplicate values is very important. \n",
    "\n",
    "The duplicated() function is used in Pandas to check for and handle duplicates."
   ]
  },
  {
   "cell_type": "code",
   "execution_count": null,
   "id": "de8bb4b8",
   "metadata": {},
   "outputs": [],
   "source": [
    "fuel_data.duplicated().any()"
   ]
  }
 ],
 "metadata": {
  "kernelspec": {
   "display_name": "Python 3 (ipykernel)",
   "language": "python",
   "name": "python3"
  },
  "language_info": {
   "codemirror_mode": {
    "name": "ipython",
    "version": 3
   },
   "file_extension": ".py",
   "mimetype": "text/x-python",
   "name": "python",
   "nbconvert_exporter": "python",
   "pygments_lexer": "ipython3",
   "version": "3.8.8"
  }
 },
 "nbformat": 4,
 "nbformat_minor": 5
}
